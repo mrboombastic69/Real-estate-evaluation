{
 "cells": [
  {
   "cell_type": "code",
   "execution_count": 2,
   "metadata": {},
   "outputs": [
    {
     "name": "stdout",
     "output_type": "stream",
     "text": [
      "                            MAE           RMSE  R² Score\n",
      "XGBoost            76623.272302  140446.888901  0.809899\n",
      "Random Forest      74812.087425  137261.729290  0.818423\n",
      "Gradient Boosting  82949.456405  141084.960640  0.808167\n"
     ]
    }
   ],
   "source": [
    "import pandas as pd\n",
    "import numpy as np\n",
    "from sklearn.model_selection import train_test_split\n",
    "from sklearn.preprocessing import StandardScaler\n",
    "from sklearn.ensemble import RandomForestRegressor, GradientBoostingRegressor\n",
    "import xgboost as xgb\n",
    "from sklearn.metrics import mean_absolute_error, mean_squared_error, r2_score\n",
    "\n",
    "# Load dataset\n",
    "dataset_path = \"austinHousingData.csv\"\n",
    "df = pd.read_csv(dataset_path)\n",
    "\n",
    "# Define target variable\n",
    "target_column = \"latestPrice\"\n",
    "\n",
    "# Drop unnecessary columns\n",
    "drop_columns = [\"zpid\", \"city\", \"streetAddress\", \"description\", \"homeImage\", \"latestPriceSource\", \n",
    "                \"latest_saledate\", \"latest_salemonth\", \"latest_saleyear\"]\n",
    "df.drop(columns=[col for col in drop_columns if col in df.columns], inplace=True)\n",
    "\n",
    "# Handle outliers\n",
    "df = df[df['latitude'] >= 30.12]\n",
    "df = df[df['numOfBathrooms'] > 0]\n",
    "df = df[df['numOfBedrooms'] > 0]\n",
    "df = df[df[target_column] <= 3000000]\n",
    "df = df[df[target_column] > 75000]\n",
    "df = df[df['zipcode'] != 78734]\n",
    "\n",
    "# Encode categorical variables\n",
    "df = pd.get_dummies(df, drop_first=True)\n",
    "\n",
    "# Split dataset into features and target variable\n",
    "X = df.drop(columns=[target_column])\n",
    "y = df[target_column]\n",
    "\n",
    "# Train-test split\n",
    "X_train, X_test, y_train, y_test = train_test_split(X, y, test_size=0.2, random_state=42)\n",
    "\n",
    "# Feature Scaling\n",
    "scaler = StandardScaler()\n",
    "X_train_scaled = scaler.fit_transform(X_train)\n",
    "X_test_scaled = scaler.transform(X_test)\n",
    "\n",
    "# Train ensemble regression models\n",
    "models = {\n",
    "    \"XGBoost\": xgb.XGBRegressor(objective=\"reg:squarederror\", n_estimators=100, random_state=42),\n",
    "    \"Random Forest\": RandomForestRegressor(n_estimators=100, random_state=42),\n",
    "    \"Gradient Boosting\": GradientBoostingRegressor(n_estimators=100, random_state=42)\n",
    "}\n",
    "\n",
    "# Train and evaluate models\n",
    "results = {}\n",
    "for name, model in models.items():\n",
    "    model.fit(X_train_scaled, y_train)\n",
    "    y_pred = model.predict(X_test_scaled)\n",
    "    \n",
    "    results[name] = {\n",
    "        \"MAE\": mean_absolute_error(y_test, y_pred),\n",
    "        \"RMSE\": np.sqrt(mean_squared_error(y_test, y_pred)),\n",
    "        \"R² Score\": r2_score(y_test, y_pred)\n",
    "    }\n",
    "\n",
    "# Convert results to DataFrame\n",
    "results_df = pd.DataFrame(results).T\n",
    "\n",
    "# Display results\n",
    "print(results_df)\n"
   ]
  },
  {
   "cell_type": "code",
   "execution_count": null,
   "metadata": {},
   "outputs": [],
   "source": []
  }
 ],
 "metadata": {
  "kernelspec": {
   "display_name": "Python 3",
   "language": "python",
   "name": "python3"
  },
  "language_info": {
   "codemirror_mode": {
    "name": "ipython",
    "version": 3
   },
   "file_extension": ".py",
   "mimetype": "text/x-python",
   "name": "python",
   "nbconvert_exporter": "python",
   "pygments_lexer": "ipython3",
   "version": "3.12.9"
  }
 },
 "nbformat": 4,
 "nbformat_minor": 2
}
